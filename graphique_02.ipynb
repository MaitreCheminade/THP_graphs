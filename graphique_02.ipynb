{
 "cells": [
  {
   "attachments": {},
   "cell_type": "markdown",
   "metadata": {},
   "source": [
    "# Analyse des ventes \n",
    "***\n",
    "## Analyse de l'évolution mensuelle des profits totaux \n",
    "***"
   ]
  },
  {
   "cell_type": "code",
   "execution_count": null,
   "metadata": {},
   "outputs": [],
   "source": [
    "import pandas as pd \n",
    "import matplotlib\n",
    "from matplotlib import pyplot as plt\n",
    "import seaborn as sb \n",
    "import numpy as np \n",
    "from scipy import stats \n",
    "# importer les données \n",
    "data = pd.read_csv('company_sales_data.csv')\n",
    "# sélectionner les données que l'on veut mettre en graphique \n",
    "data[\"month\"] = [\"janvier\", \"février\", \"mars\", \"avril\", \"mai\", \"juin\", \"juillet\", \"août\", \"septembre\", \"octobre\", \"novembre\", \"décembre\"]\n",
    "x = data[\"month\"]\n",
    "y = data[\"total_profit\"]\n",
    "# on crée la base du graphique \n",
    "sb.lineplot(x = x, y = y, color = \"green\")\n",
    "# étiquettes d'axe\n",
    "plt.xlabel(\"Mois\")\n",
    "plt.ylabel(\"Profits totaux\")\n",
    "# paramètres des graduations d'axes \n",
    "plt.xticks(rotation = 45)\n",
    "# titre du graphique \n",
    "plt.title(\"Évolution mensuelle des profits totaux\")\n",
    "# customiser le style \n",
    "sb.set_theme(palette = \"bright\")\n",
    "sb.set_style(\"darkgrid\")\n",
    "plt.show()"
   ]
  },
  {
   "attachments": {},
   "cell_type": "markdown",
   "metadata": {},
   "source": [
    "## Évolution des ventes unitaires mensuelles par produit \n",
    "***"
   ]
  },
  {
   "cell_type": "code",
   "execution_count": null,
   "metadata": {},
   "outputs": [],
   "source": [
    "# on va définir les données que l'on doit visualiser \n",
    "x = data[\"month\"]\n",
    "y1 = data[\"facecream\"]\n",
    "y2 = data[\"facewash\"]\n",
    "y3 = data[\"toothpaste\"]\n",
    "y4 = data[\"bathingsoap\"]\n",
    "y6 = data[\"moisturizer\"]\n",
    "y5 = data[\"shampoo\"]\n",
    "# créer les courbes du graphique \n",
    "sb.lineplot(x = x, y = y1, color = \"red\", label = \"Crème\")\n",
    "sb.lineplot(x = x, y = y2, color = \"blue\", label = \"Nettoyant visage\")\n",
    "sb.lineplot(x = x, y = y3, color = \"green\", label = \"Dentifrice\")\n",
    "sb.lineplot(x = x, y = y4, color = \"cyan\", label = \"Gel douche\")\n",
    "sb.lineplot(x = x, y = y5, color = \"black\", label = \"Shampooing\")\n",
    "sb.lineplot(x = x, y = y6, color = \"pink\", linestyle = \"dashed\", label = \"Hydratant\")\n",
    "# créer une légende et un titre\n",
    "plt.title(\"Évolution mensuelle des ventes par produit\")\n",
    "plt.legend()\n",
    "# titres des axes \n",
    "plt.xlabel(\"Mois\")\n",
    "plt.ylabel(\"Ventes\")\n",
    "# paramètres des graduations d'axes \n",
    "plt.xticks(rotation = 45)\n"
   ]
  },
  {
   "attachments": {},
   "cell_type": "markdown",
   "metadata": {},
   "source": [
    "## Évolution du profit généré par produit \n",
    "***"
   ]
  },
  {
   "cell_type": "code",
   "execution_count": null,
   "metadata": {},
   "outputs": [],
   "source": [
    "# idem que précédemment on change juste l'unité \n",
    "# pour cela on doit d'abord évaluer combien de pourcentage du profit chaque produit représente chaque mois\n",
    "# et ensuite on applique ce pourcentage au nombre total d'unités mensuelles \n",
    "data.iloc[:,1:-2] = data.iloc[:,1:-2].apply(pd.to_numeric, errors='coerce')\n",
    "product_fraction = data.iloc[:,1:-3].div(data.iloc[:,1:-3].sum(axis=1), axis=0)\n",
    "product_profit = product_fraction.multiply(data[\"total_profit\"], axis = \"index\")\n",
    "display(product_profit)\n",
    "# le graphique \n",
    "plt.plot(range(1,13),  product_profit[\"facecream\"], label='Crème')\n",
    "plt.plot(range(1,13),  product_profit[\"facewash\"], label='Nettoyant visage')\n",
    "plt.plot(range(1,13),  product_profit[\"toothpaste\"], label='Dentifrice')\n",
    "plt.plot(range(1,13), product_profit[\"bathingsoap\"], label='Gel douche')\n",
    "plt.plot(range(1,13), product_profit[\"shampoo\"], label='Shampooing')\n",
    "plt.plot(range(1,13), product_profit[\"moisturizer\"], label='Hydratant')\n",
    "# les labels \n",
    "xlabels = [\"Janvier\", \"Février\", \"Mars\", \"Avril\", \"Mai\", \"Juin\", \"Juillet\", \"Août\", \"Septembre\", \"Octobre\", \"Novembre\", \"Décembre\"]\n",
    "legend_labels = ['Crème','Nettoyant visage','Dentifrice',\"Gel douche\",\"Shampooing\", \"Hydratant\"]\n",
    "plt.xticks(range(1,13), xlabels, rotation = 45)\n",
    "plt.ylabel(\"Profit généré par les ventes\")\n",
    "plt.title(\"Évolution mensuelle des profits générés par les ventes de produits\")\n",
    "plt.legend(legend_labels)\n",
    "plt.show()\n"
   ]
  },
  {
   "attachments": {},
   "cell_type": "markdown",
   "metadata": {},
   "source": [
    "## Évolution des parts de ventes mensuelles par produit \n",
    "***"
   ]
  },
  {
   "cell_type": "code",
   "execution_count": null,
   "metadata": {},
   "outputs": [],
   "source": [
    "# cette fois c'est une percent stacked area chart \n",
    "# on garde les mêmes données qu'au dessus, mais cette fois on doit convertir en pourcentage \n",
    "# donc on rassemble dans un nouveau dataframe qu'on va normaliser \n",
    "# product_sales = pd.DataFrame({'facecream': y1, 'facewash': y2, 'toothpaste': y3, 'bathingsoap': y4, 'shampoo': y5, 'moisturizer': y6})\n",
    "data.iloc[:,1:-2] = data.iloc[:,1:-2].apply(pd.to_numeric, errors='coerce')\n",
    "product_percent = data.iloc[:,1:-3].div(data.iloc[:,1:-3].sum(axis=1), axis=0).multiply(100)\n",
    "display(product_percent)\n",
    "# maintenant on crée le graphique \n",
    "fig, ax = plt.subplots()\n",
    "ax.stackplot(range(1,13),  product_percent[\"facecream\"],  product_percent[\"facewash\"],  product_percent[\"toothpaste\"], product_percent[\"bathingsoap\"], product_percent[\"shampoo\"], product_percent[\"moisturizer\"], labels=['Crème','Nettoyant visage','Dentifrice',\"Gel douche\",\"Shampooing\", \"Hydratant\"])\n",
    "ax.legend(bbox_to_anchor = (1, - 0.2), ncol = 3)\n",
    "ax.margins(0,0)\n",
    "xlabels = [\"Janvier\", \"Février\", \"Mars\", \"Avril\", \"Mai\", \"Juin\", \"Juillet\", \"Août\", \"Septembre\", \"Octobre\", \"Novembre\", \"Décembre\"]\n",
    "ax.set_xticks(ticks = np.arange(1, 13, step = 1))\n",
    "ax.set_xticklabels(labels = xlabels, rotation = 45)\n",
    "ax.set_title('Évolution des parts de ventes mensuelles par produit')\n",
    "sb.axes_style(\"ticks\")\n",
    "# Affichage des pourcentages pour chaque point de donnée\n",
    "plt.show()\n"
   ]
  },
  {
   "attachments": {},
   "cell_type": "markdown",
   "metadata": {},
   "source": [
    "## Répartition des profits annuels par produit $\n",
    "***"
   ]
  },
  {
   "cell_type": "code",
   "execution_count": null,
   "metadata": {},
   "outputs": [],
   "source": [
    "# ici on va faire une pie-chart avec juste un partage des produits\n",
    "# on reprend nos données et on additionne tout\n",
    "display(data)\n",
    "product_yearly_units = data.iloc[:,1:-3].apply(pd.to_numeric, errors='coerce').sum()\n",
    "yearly_units = data.loc[:,\"total_units\"].sum()\n",
    "product_yearly_percent = product_yearly_units.div(yearly_units)*100\n",
    "print(product_yearly_percent)\n",
    "product_yearly_percent.plot.pie(autopct='%.2f',)\n",
    "plt.legend(loc = \"lower left\", bbox_to_anchor = (0, - 0.2), ncol = 3)\n",
    "plt.title(\"Répartition annuelle des ventes par produit\")\n",
    "plt.show()"
   ]
  },
  {
   "attachments": {},
   "cell_type": "markdown",
   "metadata": {},
   "source": [
    "## Analyse de la répartition des produits par catégorie \n",
    "***"
   ]
  },
  {
   "cell_type": "code",
   "execution_count": null,
   "metadata": {},
   "outputs": [],
   "source": [
    "# on va importer les dataframes des csv bookstore \n",
    "# importer les bases de données \n",
    "customers_df = pd.read_csv(\"./dataset_bookstore/customers.csv\", sep = \",\")\n",
    "transactions_df = pd.read_csv(\"./dataset_bookstore/transactions.csv\", sep = \",\")\n",
    "products_df = pd.read_csv(\"./dataset_bookstore/products.csv\", sep = \",\")\n",
    "# les nettoyer \n",
    "customers_df = customers_df[~customers_df[\"client_id\"].str.contains(\"ct\")]\n",
    "transactions_df = transactions_df[~transactions_df[\"client_id\"].str.contains(\"ct\")]\n",
    "transactions_df = transactions_df[~transactions_df[\"id_prod\"].str.contains(\"T\")]\n",
    "products_df = products_df[~products_df[\"id_prod\"].str.contains(\"T\")]\n",
    "# faire un subset\n",
    "products_by_type = products_df[[\"id_prod\", \"categ\"]].groupby(\"categ\").size()\n",
    "print(products_by_type)\n",
    "products_by_type.plot.pie(autopct='%.1f',)\n",
    "plt.legend(loc = \"lower left\", bbox_to_anchor = (0, - 0.2), ncol = 3)\n",
    "plt.title(\"Répartition des produits par type\")\n",
    "plt.show()"
   ]
  },
  {
   "attachments": {},
   "cell_type": "markdown",
   "metadata": {},
   "source": [
    "## Évolution du CA mensuel par catégorie de produit\n",
    "***"
   ]
  },
  {
   "cell_type": "code",
   "execution_count": null,
   "metadata": {},
   "outputs": [],
   "source": [
    "from datetime import datetime\n",
    "# on fusionne les deux gros dataframes pour pas s'emmerder\n",
    "product_sales_df = pd.merge(transactions_df, products_df, on='id_prod', how='inner')\n",
    "# on reformate la date\n",
    "product_sales_df[\"date\"] = pd.to_datetime(product_sales_df['date'], format='%Y-%m-%d %H:%M:%S.%f').dt.strftime(\"%Y-%m\")\n",
    "# on calcule le CA \n",
    "prod_number = product_sales_df.groupby([\"categ\"]).size().reset_index(name = \"categ_number\")\n",
    "product_sales_df = product_sales_df.merge(prod_number, on=\"categ\", how=\"inner\")\n",
    "product_sales_df[\"turnover\"] = np.multiply(product_sales_df[\"categ_number\"], product_sales_df[\"price\"])\n",
    "# il faut trier par date et categorie\n",
    "date_turnover = product_sales_df.groupby([\"categ\", \"date\"])[\"price\"].sum().reset_index(name = \"date_purchase\")\n",
    "display(date_turnover)\n",
    "# on fait le graphique \n",
    "x = date_turnover[\"date\"]\n",
    "y1 = date_turnover.loc[date_turnover[\"categ\"] == 0][\"date_purchase\"]\n",
    "y2 = date_turnover.loc[date_turnover[\"categ\"] == 1][\"date_purchase\"]\n",
    "y3 = date_turnover.loc[date_turnover[\"categ\"] == 2][\"date_purchase\"]\n",
    "sb.lineplot(x = x, y = y1, color = \"red\", label = \"Catégorie 0\")\n",
    "sb.lineplot(x = x, y = y2, color = \"blue\", label = \"Catégorie 1\")\n",
    "sb.lineplot(x = x, y = y3, color = \"green\", label = \"Catégorie 2\")\n",
    "# créer une légende et un titre\n",
    "plt.title(\"Évolution mensuelle des ventes par catégorie de produit\", fontsize = \"16\")\n",
    "plt.legend()\n",
    "# titres des axes \n",
    "plt.xlabel(\"Mois\")\n",
    "plt.ylabel(\"Ventes\")\n",
    "# paramètres des graduations d'axes \n",
    "plt.xticks(rotation = 45)\n",
    "plt.show()\n"
   ]
  },
  {
   "attachments": {},
   "cell_type": "markdown",
   "metadata": {},
   "source": [
    "## Boîtes à moustaches : répartition des prix de produits par catégorie \n",
    "***"
   ]
  },
  {
   "cell_type": "code",
   "execution_count": null,
   "metadata": {},
   "outputs": [],
   "source": [
    "# il va falloir faire un groupby categ et price ? \n",
    "price_by_type = products_df.groupby([\"categ\", \"price\"]).size().reset_index(name = \"price_freq\")\n",
    "display(price_by_type)\n",
    "# graphique \n",
    "sb.boxplot(x = price_by_type[\"categ\"], y = price_by_type[\"price\"])\n",
    "# titre et labels\n",
    "plt.title('Répartition des prix par catégorie de produits', fontsize = \"16\")\n",
    "plt.xlabel(\"Catégorie\")\n",
    "plt.ylabel('Répartition par prix')\n",
    "plt.show()\n"
   ]
  },
  {
   "attachments": {},
   "cell_type": "markdown",
   "metadata": {},
   "source": [
    "## Répartition de chiffre d'affaires par mois en fonction du genre du client\n",
    "***"
   ]
  },
  {
   "cell_type": "code",
   "execution_count": 355,
   "metadata": {},
   "outputs": [
    {
     "data": {
      "image/png": "[encoded data removed]",
      "text/plain": [
       "<Figure size 640x480 with 1 Axes>"
      ]
     },
     "metadata": {},
     "output_type": "display_data"
    }
   ],
   "source": [
    "# on fusionne tout et on pop ce qui nous intéresse pas \n",
    "mega_df = pd.merge(transactions_df, products_df, on='id_prod', how='inner')\n",
    "mega_df = pd.merge(mega_df, customers_df, on='client_id', how='inner')\n",
    "mega_df = mega_df.drop(columns = [\"birth\", \"categ\", \"session_id\", \"id_prod\"])\n",
    "# on met la date en forme \n",
    "mega_df[\"date\"] = pd.to_datetime(mega_df['date'], format='%Y-%m-%d %H:%M:%S.%f').dt.strftime(\"%Y-%m\")\n",
    "# on va grouper par genre\n",
    "gender_df = mega_df.groupby([\"sex\", \"date\"])[\"price\"].sum().reset_index()\n",
    "# faire pivoter le dataframe pour avoir les rangées en colonnes \n",
    "gender_df = gender_df.pivot(index=\"date\", columns=\"sex\", values=\"price\")\n",
    "# faire un double bar plot \n",
    "sb.set_palette(\"pastel\")\n",
    "gender_df.plot.bar(width = 0.7, color = [\"orange\", \"skyblue\"])\n",
    "# changer les labels etc\n",
    "plt.xlabel(\"Mois\", fontsize = 16)\n",
    "plt.ylabel(\"Panier total par genre\", fontsize = 16)\n",
    "plt.xticks(rotation = 45)\n",
    "plt.yticks(rotation = 45)\n",
    "plt.legend(loc = \"lower left\")\n",
    "plt.title(\"Répartition du chiffre d'affaire mensuel par genre\", fontsize = 20)\n",
    "plt.show()\n",
    "\n",
    "\n"
   ]
  },
  {
   "attachments": {},
   "cell_type": "markdown",
   "metadata": {},
   "source": [
    "## "
   ]
  },
  {
   "attachments": {},
   "cell_type": "markdown",
   "metadata": {},
   "source": [
    "## "
   ]
  },
  {
   "cell_type": "code",
   "execution_count": null,
   "metadata": {},
   "outputs": [],
   "source": []
  }
 ],
 "metadata": {
  "kernelspec": {
   "display_name": "Python 3",
   "language": "python",
   "name": "python3"
  },
  "language_info": {
   "codemirror_mode": {
    "name": "ipython",
    "version": 3
   },
   "file_extension": ".py",
   "mimetype": "text/x-python",
   "name": "python",
   "nbconvert_exporter": "python",
   "pygments_lexer": "ipython3",
   "version": "3.10.9"
  },
  "orig_nbformat": 4
 },
 "nbformat": 4,
 "nbformat_minor": 2
}
